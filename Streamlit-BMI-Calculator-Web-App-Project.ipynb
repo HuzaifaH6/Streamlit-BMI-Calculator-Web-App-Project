{
  "nbformat": 4,
  "nbformat_minor": 0,
  "metadata": {
    "colab": {
      "provenance": [],
      "authorship_tag": "ABX9TyOr2YO73I6YtkQf8xdX1+oQ",
      "include_colab_link": true
    },
    "kernelspec": {
      "name": "python3",
      "display_name": "Python 3"
    },
    "language_info": {
      "name": "python"
    }
  },
  "cells": [
    {
      "cell_type": "markdown",
      "metadata": {
        "id": "view-in-github",
        "colab_type": "text"
      },
      "source": [
        "<a href=\"https://colab.research.google.com/github/HuzaifaH6/Streamlit-BMI-Calculator-Web-App-Project/blob/main/Streamlit-BMI-Calculator-Web-App-Project.ipynb\" target=\"_parent\"><img src=\"https://colab.research.google.com/assets/colab-badge.svg\" alt=\"Open In Colab\"/></a>"
      ]
    },
    {
      "cell_type": "code",
      "execution_count": 11,
      "metadata": {
        "id": "LBwF9ccWL0eF"
      },
      "outputs": [],
      "source": [
        "!pip install streamlit --quiet\n",
        "!pip install pandas --quiet\n",
        "!pip install pyngrok streamlit_colab --quiet"
      ]
    },
    {
      "cell_type": "code",
      "source": [
        "%%writefile app.py\n",
        "\n",
        "import streamlit as st\n",
        "import pandas as pd\n",
        "\n",
        "\n",
        "st.title(\"BMI Calculator\")\n",
        "\n",
        "height = st.slider(\"Select your Height ( cm )\" , 50 , 250 , 150)\n",
        "weight = st.slider(\"Select your Weight ( kg )\",  40 , 150 , 60)\n",
        "\n",
        "bmi =  weight / ((height / 100 ) ** 2 )\n",
        "\n",
        "st.markdown(f\"Your BMI is **{bmi:.1f}** \")\n",
        "\n",
        "if bmi <= 18.5:\n",
        "    st.warning(\"You are **Underweight** 🟡\")\n",
        "elif (18.5 < bmi) and  (bmi < 24.9):\n",
        "    st.success(\"You are **Normal weight** 🟢\")\n",
        "elif (25 <= bmi) and  (bmi < 29.9):\n",
        "    st.warning(\"You are **Overweight** 🟠\")\n",
        "else:\n",
        "    st.error(\"You are **Obese** 🔴\")"
      ],
      "metadata": {
        "id": "dY5Rh_A7M3X-"
      },
      "execution_count": null,
      "outputs": []
    },
    {
      "cell_type": "code",
      "source": [
        "!pip install ngrok --quiet\n",
        "!ngrok authtoken NGROK_AUTH_TOKEN"
      ],
      "metadata": {
        "id": "hu3Osoc3nMRQ"
      },
      "execution_count": null,
      "outputs": []
    },
    {
      "cell_type": "code",
      "source": [
        "from pyngrok import ngrok\n",
        "\n",
        "!streamlit run app.py &>/dev/null &\n",
        "\n",
        "public_url = ngrok.connect(8501)\n",
        "print(f\"🚀 Open the Streamlit app here: {public_url}\")"
      ],
      "metadata": {
        "id": "3Jf5zyjxxI-H"
      },
      "execution_count": null,
      "outputs": []
    }
  ]
}